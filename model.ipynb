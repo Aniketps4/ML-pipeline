{
  "nbformat": 4,
  "nbformat_minor": 0,
  "metadata": {
    "colab": {
      "provenance": []
    },
    "kernelspec": {
      "name": "python3",
      "display_name": "Python 3"
    },
    "language_info": {
      "name": "python"
    }
  },
  "cells": [
    {
      "cell_type": "code",
      "execution_count": 1,
      "metadata": {
        "id": "vuibI_0O_60B"
      },
      "outputs": [],
      "source": [
        "import json\n",
        "import pandas as pd\n",
        "import numpy as np\n",
        "from sklearn.model_selection import train_test_split, GridSearchCV\n",
        "from sklearn.pipeline import Pipeline\n",
        "from sklearn.compose import ColumnTransformer\n",
        "from sklearn.preprocessing import StandardScaler, FunctionTransformer\n",
        "from sklearn.impute import SimpleImputer\n",
        "from sklearn.feature_extraction.text import HashingVectorizer\n",
        "from sklearn.feature_selection import SelectFromModel\n",
        "from sklearn.ensemble import RandomForestRegressor, RandomForestClassifier\n",
        "from sklearn.linear_model import LinearRegression, LogisticRegression, Ridge, Lasso, ElasticNet\n",
        "from sklearn.tree import DecisionTreeRegressor, DecisionTreeClassifier\n",
        "from sklearn.svm import SVR, SVC\n",
        "from sklearn.linear_model import SGDRegressor, SGDClassifier\n",
        "from sklearn.neighbors import KNeighborsRegressor, KNeighborsClassifier\n",
        "from sklearn.ensemble import ExtraTreesRegressor, ExtraTreesClassifier\n",
        "from sklearn.neural_network import MLPRegressor, MLPClassifier\n",
        "from sklearn.metrics import r2_score, accuracy_score\n",
        "from sklearn.ensemble import GradientBoostingRegressor, GradientBoostingClassifier\n",
        "import xgboost as xgb\n",
        "import joblib\n",
        "import warnings\n",
        "warnings.filterwarnings(\"ignore\")"
      ]
    },
    {
      "cell_type": "code",
      "source": [
        "print(\"Loading data and JSON configuration...\")\n",
        "# Load JSON\n",
        "with open('algoparams_from_ui.json', 'r') as f:\n",
        "    config = json.load(f)\n",
        "design_state = config['design_state_data']\n",
        "\n",
        "# Load dataset\n",
        "dataset_path = design_state['session_info']['dataset']\n",
        "df = pd.read_csv(dataset_path)\n",
        "\n",
        "# Extract target and features\n",
        "target = design_state['target']['target']\n",
        "prediction_type = design_state['target']['prediction_type']\n",
        "features = [f for f in df.columns if f != target and design_state['feature_handling'][f]['is_selected']]\n",
        "\n",
        "X = df[features]\n",
        "y = df[target]"
      ],
      "metadata": {
        "colab": {
          "base_uri": "https://localhost:8080/"
        },
        "id": "Fm64DlJoAjoh",
        "outputId": "daa54ded-5de2-4a9c-e4ec-9a10e0b168fe"
      },
      "execution_count": 2,
      "outputs": [
        {
          "output_type": "stream",
          "name": "stdout",
          "text": [
            "Loading data and JSON configuration...\n"
          ]
        }
      ]
    },
    {
      "cell_type": "code",
      "source": [
        "print(\"Setting up preprocessing...\")\n",
        "numerical_features = []\n",
        "categorical_features = []\n",
        "\n",
        "# Define named function for picklability\n",
        "def to_1d_array(x):\n",
        "    return x.iloc[:, 0].values\n",
        "\n",
        "# Categorize features\n",
        "for feature in features:\n",
        "    feat_config = design_state['feature_handling'][feature]\n",
        "    if feat_config['feature_variable_type'] == 'numerical':\n",
        "        numerical_features.append(feature)\n",
        "    elif feat_config['feature_variable_type'] == 'text':\n",
        "        categorical_features.append(feature)\n",
        "\n",
        "# Numerical preprocessing\n",
        "numerical_transformers = []\n",
        "for feature in numerical_features:\n",
        "    feat_config = design_state['feature_handling'][feature]['feature_details']\n",
        "    impute_strategy = 'mean' if feat_config['impute_with'] == 'Average of values' else 'constant'\n",
        "    impute_value = feat_config.get('impute_value', 0)\n",
        "\n",
        "    numerical_transformers.append(\n",
        "        (feature, Pipeline([\n",
        "            ('imputer', SimpleImputer(strategy=impute_strategy, fill_value=impute_value))\n",
        "        ]), [feature])\n",
        "    )\n",
        "\n",
        "# Categorical preprocessing\n",
        "categorical_transformers = []\n",
        "for feature in categorical_features:\n",
        "    n_features = design_state['feature_handling'][feature]['feature_details'].get('hash_columns', 10)\n",
        "    n_features = 10 if n_features <= 0 else n_features  # Ensure n_features is positive\n",
        "    categorical_transformers.append(\n",
        "        (feature, Pipeline([\n",
        "            ('to_1d', FunctionTransformer(to_1d_array, validate=False)),  # Use named function\n",
        "            ('hasher', HashingVectorizer(n_features=n_features, alternate_sign=False))\n",
        "        ]), [feature])\n",
        "    )\n",
        "\n",
        "# Combine preprocessors\n",
        "preprocessor = ColumnTransformer(\n",
        "    transformers=numerical_transformers + categorical_transformers,\n",
        "    remainder='passthrough'\n",
        ")"
      ],
      "metadata": {
        "colab": {
          "base_uri": "https://localhost:8080/"
        },
        "id": "4GsrcTozAhN1",
        "outputId": "ecc362c3-4285-4a6d-9575-10e14e0aed46"
      },
      "execution_count": 10,
      "outputs": [
        {
          "output_type": "stream",
          "name": "stdout",
          "text": [
            "Setting up preprocessing...\n"
          ]
        }
      ]
    },
    {
      "cell_type": "code",
      "source": [
        "print(\"Generating features...\")\n",
        "import numpy as np\n",
        "\n",
        "def generate_interactions(X, feature_indices=None):\n",
        "    # If X is sparse, convert to dense for simplicity\n",
        "    if hasattr(X, 'toarray'):\n",
        "        X = X.toarray()\n",
        "\n",
        "    # Default to first two columns if no indices provided\n",
        "    if feature_indices is None:\n",
        "        feature_indices = [(0, 1)]  # Pairwise product of first two features\n",
        "\n",
        "    result = X.copy()\n",
        "    for i, (idx1, idx2) in enumerate(feature_indices):\n",
        "        new_feature = X[:, idx1] * X[:, idx2]\n",
        "        result = np.column_stack((result, new_feature))\n",
        "    return result\n",
        "\n",
        "def generate_polynomial(X, feature_indices=None):\n",
        "    # If X is sparse, convert to dense\n",
        "    if hasattr(X, 'toarray'):\n",
        "        X = X.toarray()\n",
        "\n",
        "    # Default to first two columns\n",
        "    if feature_indices is None:\n",
        "        feature_indices = [(0, 1)]\n",
        "\n",
        "    result = X.copy()\n",
        "    for i, (idx1, idx2) in enumerate(feature_indices):\n",
        "        new_feature = X[:, idx1] / (X[:, idx2] + 1e-10)  # Avoid division by zero\n",
        "        result = np.column_stack((result, new_feature))\n",
        "    return result\n",
        "\n",
        "# Feature generation pipeline\n",
        "feature_gen = Pipeline([\n",
        "    ('linear', FunctionTransformer(generate_interactions, kw_args={'feature_indices': [(0, 1)]})),\n",
        "    ('poly', FunctionTransformer(generate_polynomial, kw_args={'feature_indices': [(0, 1)]})),\n",
        "    ('pairwise', FunctionTransformer(generate_interactions, kw_args={'feature_indices': [(0, 1)]}))\n",
        "])"
      ],
      "metadata": {
        "colab": {
          "base_uri": "https://localhost:8080/"
        },
        "id": "SDiuxk33Aga1",
        "outputId": "9c372175-cc1e-40ae-a72a-b6468c859808"
      },
      "execution_count": 8,
      "outputs": [
        {
          "output_type": "stream",
          "name": "stdout",
          "text": [
            "Generating features...\n"
          ]
        }
      ]
    },
    {
      "cell_type": "code",
      "source": [
        "print(\"Setting up feature reduction...\")\n",
        "n_features = len(features) + len(linear_pairs) + len(poly_pairs) + len(pairwise_pairs)\n",
        "n_features_to_keep = max(1, n_features - 1)  # n-1 features\n",
        "num_trees = int(design_state['feature_reduction']['num_of_trees'])\n",
        "depth = int(design_state['feature_reduction']['depth_of_trees'])\n",
        "\n",
        "feature_selector = SelectFromModel(\n",
        "    RandomForestRegressor(n_estimators=num_trees, max_depth=depth, random_state=1),\n",
        "    max_features=n_features_to_keep\n",
        ")"
      ],
      "metadata": {
        "colab": {
          "base_uri": "https://localhost:8080/"
        },
        "id": "NmvI_OBoAbct",
        "outputId": "7fee7ea0-b073-4e3f-c34c-34da65b6fd7b"
      },
      "execution_count": 5,
      "outputs": [
        {
          "output_type": "stream",
          "name": "stdout",
          "text": [
            "Setting up feature reduction...\n"
          ]
        }
      ]
    },
    {
      "cell_type": "code",
      "source": [
        "print(\"Configuring models...\")\n",
        "model_configs = {\n",
        "    'RandomForestClassifier': {\n",
        "        'model': RandomForestClassifier,\n",
        "        'params': {\n",
        "            'n_estimators': list(range(design_state['algorithms']['RandomForestClassifier']['min_trees'],\n",
        "                                      design_state['algorithms']['RandomForestClassifier']['max_trees'] + 1, 10)),\n",
        "            'max_depth': list(range(design_state['algorithms']['RandomForestClassifier']['min_depth'],\n",
        "                                   design_state['algorithms']['RandomForestClassifier']['max_depth'] + 1, 5)),\n",
        "            'min_samples_leaf': list(range(design_state['algorithms']['RandomForestClassifier']['min_samples_per_leaf_min_value'],\n",
        "                                          design_state['algorithms']['RandomForestClassifier']['min_samples_per_leaf_max_value'] + 1, 5))\n",
        "        }\n",
        "    },\n",
        "    'RandomForestRegressor': {\n",
        "        'model': RandomForestRegressor,\n",
        "        'params': {\n",
        "            'n_estimators': list(range(design_state['algorithms']['RandomForestRegressor']['min_trees'],\n",
        "                                      design_state['algorithms']['RandomForestRegressor']['max_trees'] + 1, 5)),\n",
        "            'max_depth': list(range(design_state['algorithms']['RandomForestRegressor']['min_depth'],\n",
        "                                   design_state['algorithms']['RandomForestRegressor']['max_depth'] + 1, 5)),\n",
        "            'min_samples_leaf': list(range(design_state['algorithms']['RandomForestRegressor']['min_samples_per_leaf_min_value'],\n",
        "                                          design_state['algorithms']['RandomForestRegressor']['min_samples_per_leaf_max_value'] + 1, 5))\n",
        "        }\n",
        "    },\n",
        "    'GBTClassifier': {\n",
        "        'model': GradientBoostingClassifier,\n",
        "        'params': {\n",
        "            'n_estimators': design_state['algorithms']['GBTClassifier']['num_of_BoostingStages'],\n",
        "            'max_depth': list(range(design_state['algorithms']['GBTClassifier']['min_depth'],\n",
        "                                   design_state['algorithms']['GBTClassifier']['max_depth'] + 1)),\n",
        "            'learning_rate': list(np.linspace(design_state['algorithms']['GBTClassifier']['min_stepsize'],\n",
        "                                             design_state['algorithms']['GBTClassifier']['max_stepsize'], 3))\n",
        "        }\n",
        "    },\n",
        "    'GBTRegressor': {\n",
        "        'model': GradientBoostingRegressor,\n",
        "        'params': {\n",
        "            'n_estimators': design_state['algorithms']['GBTRegressor']['num_of_BoostingStages'],\n",
        "            'max_depth': list(range(design_state['algorithms']['GBTRegressor']['min_depth'],\n",
        "                                   design_state['algorithms']['GBTRegressor']['max_depth'] + 1)),\n",
        "            'learning_rate': list(np.linspace(design_state['algorithms']['GBTRegressor']['min_stepsize'],\n",
        "                                             design_state['algorithms']['GBTRegressor']['max_stepsize'], 3))\n",
        "        }\n",
        "    },\n",
        "    'LinearRegression': {\n",
        "        'model': LinearRegression,\n",
        "        'params': {}\n",
        "    },\n",
        "    'LogisticRegression': {\n",
        "        'model': LogisticRegression,\n",
        "        'params': {\n",
        "            'max_iter': list(range(design_state['algorithms']['LogisticRegression']['min_iter'],\n",
        "                                  design_state['algorithms']['LogisticRegression']['max_iter'] + 1, 10)),\n",
        "            'C': list(np.linspace(design_state['algorithms']['LogisticRegression']['min_regparam'],\n",
        "                                 design_state['algorithms']['LogisticRegression']['max_regparam'], 3))\n",
        "        }\n",
        "    },\n",
        "    'RidgeRegression': {\n",
        "        'model': Ridge,\n",
        "        'params': {\n",
        "            'alpha': list(np.linspace(design_state['algorithms']['RidgeRegression']['min_regparam'],\n",
        "                                     design_state['algorithms']['RidgeRegression']['max_regparam'], 3))\n",
        "        }\n",
        "    },\n",
        "    'LassoRegression': {\n",
        "        'model': Lasso,\n",
        "        'params': {\n",
        "            'alpha': list(np.linspace(design_state['algorithms']['LassoRegression']['min_regparam'],\n",
        "                                     design_state['algorithms']['LassoRegression']['max_regparam'], 3))\n",
        "        }\n",
        "    },\n",
        "    'ElasticNetRegression': {\n",
        "        'model': ElasticNet,\n",
        "        'params': {\n",
        "            'alpha': list(np.linspace(design_state['algorithms']['ElasticNetRegression']['min_regparam'],\n",
        "                                     design_state['algorithms']['ElasticNetRegression']['max_regparam'], 3)),\n",
        "            'l1_ratio': list(np.linspace(design_state['algorithms']['ElasticNetRegression']['min_elasticnet'],\n",
        "                                        design_state['algorithms']['ElasticNetRegression']['max_elasticnet'], 3))\n",
        "        }\n",
        "    },\n",
        "    'xg_boost': {\n",
        "        'model': xgb.XGBRegressor if prediction_type == 'Regression' else xgb.XGBClassifier,\n",
        "        'params': {\n",
        "            'n_estimators': [design_state['algorithms']['xg_boost']['max_num_of_trees']] if design_state['algorithms']['xg_boost']['max_num_of_trees'] > 0 else [100],\n",
        "            'max_depth': design_state['algorithms']['xg_boost']['max_depth_of_tree'],\n",
        "            'learning_rate': design_state['algorithms']['xg_boost']['learningRate']\n",
        "        }\n",
        "    },\n",
        "    'DecisionTreeRegressor': {\n",
        "        'model': DecisionTreeRegressor,\n",
        "        'params': {\n",
        "            'max_depth': list(range(design_state['algorithms']['DecisionTreeRegressor']['min_depth'],\n",
        "                                   design_state['algorithms']['DecisionTreeRegressor']['max_depth'] + 1)),\n",
        "            'min_samples_leaf': design_state['algorithms']['DecisionTreeRegressor']['min_samples_per_leaf']\n",
        "        }\n",
        "    },\n",
        "    'DecisionTreeClassifier': {\n",
        "        'model': DecisionTreeClassifier,\n",
        "        'params': {\n",
        "            'max_depth': list(range(design_state['algorithms']['DecisionTreeClassifier']['min_depth'],\n",
        "                                   design_state['algorithms']['DecisionTreeClassifier']['max_depth'] + 1)),\n",
        "            'min_samples_leaf': design_state['algorithms']['DecisionTreeClassifier']['min_samples_per_leaf']\n",
        "        }\n",
        "    },\n",
        "    'SVM': {\n",
        "        'model': SVR if prediction_type == 'Regression' else SVC,\n",
        "        'params': {\n",
        "            'C': design_state['algorithms']['SVM']['c_value'],\n",
        "            'kernel': ['linear', 'rbf', 'poly', 'sigmoid'] if design_state['algorithms']['SVM']['linear_kernel'] else ['rbf']\n",
        "        }\n",
        "    },\n",
        "    'SGD': {\n",
        "        'model': SGDRegressor if prediction_type == 'Regression' else SGDClassifier,\n",
        "        'params': {\n",
        "            'alpha': design_state['algorithms']['SGD']['alpha_value'],\n",
        "            'max_iter': [1000]\n",
        "        }\n",
        "    },\n",
        "    'KNN': {\n",
        "        'model': KNeighborsRegressor if prediction_type == 'Regression' else KNeighborsClassifier,\n",
        "        'params': {\n",
        "            'n_neighbors': design_state['algorithms']['KNN']['k_value']\n",
        "        }\n",
        "    },\n",
        "    'extra_random_trees': {\n",
        "        'model': ExtraTreesRegressor if prediction_type == 'Regression' else ExtraTreesClassifier,\n",
        "        'params': {\n",
        "            'n_estimators': design_state['algorithms']['extra_random_trees']['num_of_trees'],\n",
        "            'max_depth': design_state['algorithms']['extra_random_trees']['max_depth'],\n",
        "            'min_samples_leaf': design_state['algorithms']['extra_random_trees']['min_samples_per_leaf']\n",
        "        }\n",
        "    },\n",
        "    'neural_network': {\n",
        "        'model': MLPRegressor if prediction_type == 'Regression' else MLPClassifier,\n",
        "        'params': {\n",
        "            'hidden_layer_sizes': [tuple(design_state['algorithms']['neural_network']['hidden_layer_sizes'])],\n",
        "            'max_iter': [design_state['algorithms']['neural_network']['max_iterations']] if design_state['algorithms']['neural_network']['max_iterations'] > 0 else [200]\n",
        "        }\n",
        "    }\n",
        "}\n",
        "\n",
        "# Filter selected model\n",
        "selected_model = None\n",
        "for model_name, config in design_state['algorithms'].items():\n",
        "    if config['is_selected']:\n",
        "        selected_model = model_name\n",
        "        break\n",
        "\n",
        "if not selected_model:\n",
        "    raise ValueError(\"No model selected in JSON configuration.\")"
      ],
      "metadata": {
        "colab": {
          "base_uri": "https://localhost:8080/"
        },
        "id": "_sLJKWW8AZ_a",
        "outputId": "560008e1-ca5c-4876-ea62-4605311f7e67"
      },
      "execution_count": 6,
      "outputs": [
        {
          "output_type": "stream",
          "name": "stdout",
          "text": [
            "Configuring models...\n"
          ]
        }
      ]
    },
    {
      "cell_type": "code",
      "source": [
        "print(f\"Training pipeline with {selected_model}...\")\n",
        "# Train-test split\n",
        "train_ratio = design_state['train']['train_ratio']\n",
        "train_ratio = 0.6 if train_ratio < 0.6 else train_ratio\n",
        "random_seed = design_state['train']['random_seed']\n",
        "X_train, X_test, y_train, y_test = train_test_split(X, y, train_size=train_ratio, random_state=random_seed)\n",
        "\n",
        "# Sample weights\n",
        "weight_var = design_state['weighting_stratergy']['weighting_stratergy_weight_variable']\n",
        "sample_weight = X_train[weight_var] if weight_var in X_train.columns else None\n",
        "\n",
        "# Pipeline\n",
        "model_class = model_configs[selected_model]['model']\n",
        "pipeline = Pipeline([\n",
        "    ('preprocessor', preprocessor),\n",
        "    ('feature_gen', feature_gen),\n",
        "    ('feature_select', feature_selector),\n",
        "    ('model', model_class())\n",
        "])\n",
        "\n",
        "# Grid search\n",
        "param_grid = {f\"model__{k}\": v for k, v in model_configs[selected_model]['params'].items()}\n",
        "grid_search = GridSearchCV(\n",
        "    pipeline,\n",
        "    param_grid,\n",
        "    cv=design_state['hyperparameters']['num_of_folds'],\n",
        "    scoring='r2' if prediction_type == 'Regression' else 'accuracy',\n",
        "    n_jobs=design_state['hyperparameters']['parallelism'] if design_state['hyperparameters']['parallelism'] > 0 else None\n",
        ")\n",
        "\n",
        "# Fit pipeline\n",
        "grid_search.fit(X_train, y_train, model__sample_weight=sample_weight)\n",
        "\n",
        "# Evaluate\n",
        "y_pred = grid_search.predict(X_test)\n",
        "score = r2_score(y_test, y_pred) if prediction_type == 'Regression' else accuracy_score(y_test, y_pred)\n",
        "print(f\"Final evaluation score ({'R²' if prediction_type == 'Regression' else 'Accuracy'}): {score:.4f}\")\n",
        "\n",
        "# Save pipeline\n",
        "joblib.dump(grid_search, 'trained_pipeline.joblib')"
      ],
      "metadata": {
        "colab": {
          "base_uri": "https://localhost:8080/"
        },
        "id": "U76Q84fdAXX1",
        "outputId": "b382439d-1359-4b30-fe4f-5d04401d6c2c"
      },
      "execution_count": 11,
      "outputs": [
        {
          "output_type": "stream",
          "name": "stdout",
          "text": [
            "Training pipeline with RandomForestRegressor...\n",
            "Final evaluation score (R²): 0.8979\n"
          ]
        },
        {
          "output_type": "execute_result",
          "data": {
            "text/plain": [
              "['trained_pipeline.joblib']"
            ]
          },
          "metadata": {},
          "execution_count": 11
        }
      ]
    }
  ]
}